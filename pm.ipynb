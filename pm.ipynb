{
 "cells": [
  {
   "cell_type": "code",
   "execution_count": 1,
   "metadata": {},
   "outputs": [],
   "source": [
    "import os\n",
    "from dotenv import load_dotenv\n",
    "from langchain_openai import ChatOpenAI\n",
    "from langchain.memory import ConversationBufferMemory\n",
    "import json\n"
   ]
  },
  {
   "cell_type": "code",
   "execution_count": 2,
   "metadata": {},
   "outputs": [],
   "source": [
    "load_dotenv()\n",
    "OPENAI_API_KEY = os.getenv(\"OPENAI_API_KEY\")\n"
   ]
  },
  {
   "cell_type": "code",
   "execution_count": null,
   "metadata": {},
   "outputs": [],
   "source": [
    "\n",
    "class ProjectManagerAgent:\n",
    "    def __init__(self):\n",
    "        self.llm = ChatOpenAI(model=\"gpt-4\", temperature=0.7)\n",
    "        self.memory = ConversationBufferMemory()\n",
    "    \n",
    "    def parse_user_input(self, user_idea: str) -> dict:\n",
    "       \n",
    "        prompt = f\"\"\"\n",
    "        You are an AI Project Manager. Your responsibility is to take a given business idea (provided by the user) and break it down into 3 \n",
    "        detailed tasks for the following agents:\n",
    "\n",
    "        • **Engineering Agent**: Handles technical design, system architecture, and component designs. The agent does not have to give any code,\n",
    "        but should provide a detailed technical overview of the system.\n",
    "        • **Marketing Agent**: Focuses on market research, branding, and promotional strategy.\n",
    "        • **Legal Agent**: Deals with compliance, risk assessment, and legal documentation.\n",
    "\n",
    "        Your output must be a valid JSON object with exactly 4 key-value pairs. Each key is the name of an agent (use lowercase strings \n",
    "        exactly as \"engineering\", \"marketing\", \"legal\"), and each value is a detailed prompt instructing that \n",
    "        agent on its specific task.\n",
    "\n",
    "        The JSON format should look like this:\n",
    "        {{\n",
    "            \"engineering\": \"Detailed task prompt for the Engineering Agent.\",\n",
    "            \"marketing\": \"Detailed task prompt for the Marketing Agent.\",\n",
    "            \"legal\": \"Detailed task prompt for the Legal Agent.\",\n",
    "           \n",
    "        }}\n",
    "        Each task prompt should provide the original user idea and clearly specify objectives, deliverables, and any constraints derived from the user’s business idea. Return only the JSON object with no additional text.\n",
    "\n",
    "        Business Idea: {user_idea}\n",
    "        \"\"\"\n",
    "\n",
    "        response = self.llm.invoke(prompt).content\n",
    "        print(response)\n",
    "        structured_tasks = json.loads(response)\n",
    "        return structured_tasks\n",
    "    "
   ]
  },
  {
   "cell_type": "code",
   "execution_count": 8,
   "metadata": {},
   "outputs": [
    {
     "name": "stdout",
     "output_type": "stream",
     "text": [
      "{\n",
      "    \"engineering\": \"The project is to develop an AI-powered chatbot that aids small businesses in automatically creating marketing content. Your task is to design an intelligent system that can comprehend user requirements and generate suitable marketing content. The bot should be able to take input in the form of business details, target audience, and marketing goals, and output relevant content. The system should be user-friendly, adaptable to multiple platforms, and have a smart content generation algorithm at its core. Deliverables include a detailed technical design document, system architecture, and component designs. Please ensure the system is scalable and performance optimized.\",\n",
      "\n",
      "    \"marketing\": \"The product is an AI-powered chatbot for small businesses to generate marketing content. Conduct thorough market research to understand our potential customers, their needs, and the competitive landscape. Develop a branding strategy that highlights our bot's user-friendly interface and quality content generation. Plan a promotional strategy that includes digital channels and emphasizes our AI's ability to save time and increase efficiency for small businesses. Deliverables should include a comprehensive market research report, a branding strategy document, and a promotional plan.\",\n",
      "\n",
      "    \"legal\": \"We are creating an AI-powered chatbot for automated marketing content creation. Your task is to ensure our product's compliance with AI and data usage regulations. We need to identify any potential legal risks associated with our chatbot, including data privacy and intellectual property concerns. Also, review our terms of service and privacy policies to ensure they are comprehensive and protect our interests. Deliverables include a risk assessment report, updated legal documentation, and a compliance checklist. Please keep in mind the various jurisdictions we may operate in.\"\n",
      "}\n",
      "\n",
      "Engineering Task:\n",
      "The project is to develop an AI-powered chatbot that aids small businesses in automatically creating marketing content. Your task is to design an intelligent system that can comprehend user requirements and generate suitable marketing content. The bot should be able to take input in the form of business details, target audience, and marketing goals, and output relevant content. The system should be user-friendly, adaptable to multiple platforms, and have a smart content generation algorithm at its core. Deliverables include a detailed technical design document, system architecture, and component designs. Please ensure the system is scalable and performance optimized.\n",
      "\n",
      "Marketing Task:\n",
      "The product is an AI-powered chatbot for small businesses to generate marketing content. Conduct thorough market research to understand our potential customers, their needs, and the competitive landscape. Develop a branding strategy that highlights our bot's user-friendly interface and quality content generation. Plan a promotional strategy that includes digital channels and emphasizes our AI's ability to save time and increase efficiency for small businesses. Deliverables should include a comprehensive market research report, a branding strategy document, and a promotional plan.\n",
      "\n",
      "Legal Task:\n",
      "We are creating an AI-powered chatbot for automated marketing content creation. Your task is to ensure our product's compliance with AI and data usage regulations. We need to identify any potential legal risks associated with our chatbot, including data privacy and intellectual property concerns. Also, review our terms of service and privacy policies to ensure they are comprehensive and protect our interests. Deliverables include a risk assessment report, updated legal documentation, and a compliance checklist. Please keep in mind the various jurisdictions we may operate in.\n"
     ]
    }
   ],
   "source": [
    "pm_agent = ProjectManagerAgent()\n",
    "user_idea = \"An AI-powered chatbot that helps small businesses create automated marketing content.\"\n",
    "structured_tasks = pm_agent.parse_user_input(user_idea)\n",
    "\n",
    "for agent, task in structured_tasks.items():\n",
    "    print(f\"\\n{agent.capitalize()} Task:\\n{task}\")"
   ]
  },
  {
   "cell_type": "code",
   "execution_count": 27,
   "metadata": {},
   "outputs": [],
   "source": [
    "dummy_response = {\n",
    "    \"Engineering\": {\n",
    "        \"System Architecture\": \"The chatbot system follows a modular architecture with three core components: a Natural Language Processing (NLP) module powered by GPT-4 for understanding and generating marketing content, a Content Recommendation Engine leveraging machine learning models to suggest relevant marketing materials, and a User Interface (UI) layer for seamless interaction via web and mobile apps. Data storage will utilize a cloud-based database with secure encryption to handle user inputs and generated content.\",\n",
    "        \"Components List\": [\n",
    "            \"GPT-4 NLP Model for language understanding and content generation\",\n",
    "            \"Machine Learning Recommendation Engine for marketing strategies\",\n",
    "            \"Cloud-based database for storing user interactions and generated content\",\n",
    "            \"Frontend UI (React.js for web, Flutter for mobile) for user engagement\",\n",
    "            \"Backend API (FastAPI/Python) for processing requests and integrating AI components\"\n",
    "        ],\n",
    "        \"Technical Specification\": {\n",
    "            \"Programming Languages\": [\"Python\", \"JavaScript\"],\n",
    "            \"Frameworks\": [\"FastAPI for backend\", \"React.js for frontend\", \"Flutter for mobile\"],\n",
    "            \"Database\": \"PostgreSQL with cloud hosting\",\n",
    "            \"Security Measures\": [\"OAuth 2.0 authentication\", \"End-to-end encryption\", \"GDPR-compliant data handling\"]\n",
    "        }\n",
    "    },\n",
    "    \"Marketing\": {\n",
    "        \"Market Research\": {\n",
    "            \"Current Trends\": [\n",
    "                \"Increasing adoption of AI in digital marketing\",\n",
    "                \"Small businesses looking for cost-effective automation solutions\",\n",
    "                \"Preference for no-code or low-code marketing tools\"\n",
    "            ],\n",
    "            \"Key Competitors\": [\n",
    "                \"HubSpot AI-powered marketing tools\",\n",
    "                \"Copy.ai for AI-generated content\",\n",
    "                \"ChatGPT-based customer engagement tools\"\n",
    "            ],\n",
    "            \"Customer Pain Points\": [\n",
    "                \"High costs of hiring marketing agencies\",\n",
    "                \"Time-consuming manual content creation\",\n",
    "                \"Lack of personalized marketing strategies\"\n",
    "            ]\n",
    "        },\n",
    "        \"Branding Strategy\": {\n",
    "            \"Unique Selling Proposition\": \"An AI chatbot that provides small businesses with personalized, automated marketing content effortlessly.\",\n",
    "            \"Brand Persona\": \"Helpful, smart, and easy-to-use marketing assistant for small business owners.\",\n",
    "            \"Key Messaging\": \"Empower your business with AI-driven marketing content, tailored for your audience.\"\n",
    "        },\n",
    "        \"Promotional Plan\": {\n",
    "            \"Digital Channels\": [\"Social media (LinkedIn, Facebook, Instagram)\", \"Email marketing campaigns\", \"Content marketing through blogs and case studies\"],\n",
    "            \"Initial Campaign\": \"A free trial launch campaign offering businesses AI-generated marketing content for 30 days.\",\n",
    "            \"Advertising Budget\": \"Targeted paid ads with a budget of $10,000 for the first quarter.\"\n",
    "        }\n",
    "    },\n",
    "    \"Legal\": {\n",
    "        \"Risk Assessment\": {\n",
    "            \"Potential Risks\": [\n",
    "                \"User data privacy concerns under GDPR and CCPA regulations\",\n",
    "                \"AI-generated content misuse (e.g., plagiarism, misleading ads)\",\n",
    "                \"Liability issues related to marketing claims made using AI content\"\n",
    "            ],\n",
    "            \"Mitigation Strategies\": [\n",
    "                \"Implement clear opt-in and opt-out user consent for data collection\",\n",
    "                \"Develop an AI content monitoring system to flag potential policy violations\",\n",
    "                \"Include disclaimers in generated content stating that AI assists in content creation\"\n",
    "            ]\n",
    "        },\n",
    "        \"Legal Documents\": {\n",
    "            \"Terms Of Use\": \"A document outlining permissible uses of the chatbot, limitations of liability, and user responsibilities.\",\n",
    "            \"Privacy Policy\": \"A comprehensive privacy policy detailing data collection, storage, and user rights under GDPR and CCPA.\",\n",
    "            \"Compliance Measures\": [\n",
    "                \"Data encryption for user information\",\n",
    "                \"Regular AI ethics audits\",\n",
    "                \"Adherence to fair advertising laws\"\n",
    "            ]\n",
    "        }\n",
    "    }\n",
    "}\n"
   ]
  },
  {
   "cell_type": "code",
   "execution_count": null,
   "metadata": {},
   "outputs": [
    {
     "data": {
      "application/vnd.jupyter.widget-view+json": {
       "model_id": "34702ef652494b5e95fa7d33382e9ae8",
       "version_major": 2,
       "version_minor": 0
      },
      "text/plain": [
       "  0%|          | 0/1 [00:00<?, ?it/s]"
      ]
     },
     "metadata": {},
     "output_type": "display_data"
    },
    {
     "name": "stdout",
     "output_type": "stream",
     "text": [
      "Document successfully saved as Project_Documentation.pdf.\n"
     ]
    }
   ],
   "source": [
    "import json\n",
    "from docx import Document\n",
    "from docx.shared import Pt\n",
    "from docx.enum.text import WD_PARAGRAPH_ALIGNMENT\n",
    "from docx2pdf import convert\n",
    "\n",
    "\n",
    "json_data = dummy_response\n",
    "# Create a new Word document\n",
    "doc = Document()\n",
    "\n",
    "doc.add_heading('Project Documentation', level=1)\n",
    "\n",
    "\n",
    "for main_section, subsections in json_data.items():\n",
    "    doc.add_heading(main_section, level=1)  \n",
    "    \n",
    "    for sub_heading, content in subsections.items():\n",
    "        doc.add_heading(sub_heading, level=2)  \n",
    "\n",
    "        # Handle content based on type\n",
    "        if isinstance(content, list):  \n",
    "            for item in content:\n",
    "                doc.add_paragraph(f\"• {item}\", style=\"List Bullet\")\n",
    "        elif isinstance(content, dict):  \n",
    "            for key, value in content.items():\n",
    "                doc.add_heading(key, level=3)\n",
    "                if isinstance(value, list):\n",
    "                    for sub_item in value:\n",
    "                        doc.add_paragraph(f\"• {sub_item}\", style=\"List Bullet\")\n",
    "                else:\n",
    "                    doc.add_paragraph(value)\n",
    "        else:  # If the value is a string, just add it as a paragraph\n",
    "            doc.add_paragraph(content)\n",
    "\n",
    "# Save as a Word document\n",
    "docx_filename = r\"docs/Project_Documentation.docx\"\n",
    "doc.save(docx_filename)\n",
    "\n",
    "# Convert Word document to PDF\n",
    "pdf_filename = \"Project_Documentation.pdf\"\n",
    "convert(docx_filename)\n",
    "\n",
    "print(f\"Document successfully saved as {pdf_filename}.\")\n"
   ]
  }
 ],
 "metadata": {
  "kernelspec": {
   "display_name": "Python 3",
   "language": "python",
   "name": "python3"
  },
  "language_info": {
   "codemirror_mode": {
    "name": "ipython",
    "version": 3
   },
   "file_extension": ".py",
   "mimetype": "text/x-python",
   "name": "python",
   "nbconvert_exporter": "python",
   "pygments_lexer": "ipython3",
   "version": "3.9.0"
  }
 },
 "nbformat": 4,
 "nbformat_minor": 2
}
